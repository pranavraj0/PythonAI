{
 "cells": [
  {
   "cell_type": "code",
   "execution_count": 1,
   "id": "fce1bff8",
   "metadata": {},
   "outputs": [],
   "source": [
    "import torch"
   ]
  },
  {
   "cell_type": "code",
   "execution_count": 2,
   "id": "944cbe1e",
   "metadata": {},
   "outputs": [
    {
     "data": {
      "text/plain": [
       "<torch._C.Generator at 0x231d0176530>"
      ]
     },
     "execution_count": 2,
     "metadata": {},
     "output_type": "execute_result"
    }
   ],
   "source": [
    "torch.manual_seed(7)"
   ]
  },
  {
   "cell_type": "code",
   "execution_count": 3,
   "id": "88bf4c7e",
   "metadata": {},
   "outputs": [],
   "source": [
    "mlp = torch.nn.Sequential(\n",
    "    torch.nn.Linear(10, 100),\n",
    "    torch.nn.ReLU(),\n",
    "    torch.nn.Linear(100, 6),\n",
    "    torch.nn.Softmax(dim=0)\n",
    ")"
   ]
  },
  {
   "cell_type": "code",
   "execution_count": 11,
   "id": "8ff339fa",
   "metadata": {},
   "outputs": [],
   "source": [
    "opt = torch.optim.SGD(mlp.parameters(), lr=1.0)"
   ]
  },
  {
   "cell_type": "code",
   "execution_count": 21,
   "id": "10bbb43d",
   "metadata": {},
   "outputs": [
    {
     "data": {
      "text/plain": [
       "tensor([[9.9996e-01, 4.5264e-01, 4.8449e-01, 4.7170e-01, 4.5183e-05, 4.1318e-01],\n",
       "        [3.9945e-05, 5.4736e-01, 5.1551e-01, 5.2830e-01, 9.9995e-01, 5.8682e-01]],\n",
       "       grad_fn=<SoftmaxBackward>)"
      ]
     },
     "execution_count": 21,
     "metadata": {},
     "output_type": "execute_result"
    }
   ],
   "source": [
    "w = torch.Tensor([[1.0] * 10, [2.0] * 10])\n",
    "out = mlp(w)\n",
    "out"
   ]
  },
  {
   "cell_type": "code",
   "execution_count": 22,
   "id": "9b16fc6b",
   "metadata": {},
   "outputs": [],
   "source": [
    "loss = torch.nn.CrossEntropyLoss()"
   ]
  },
  {
   "cell_type": "code",
   "execution_count": 23,
   "id": "328a4166",
   "metadata": {
    "scrolled": true
   },
   "outputs": [],
   "source": [
    "l = loss(out, torch.LongTensor([0, 4]))\n",
    "l.backward()"
   ]
  },
  {
   "cell_type": "code",
   "execution_count": 24,
   "id": "d14aaac7",
   "metadata": {},
   "outputs": [
    {
     "data": {
      "text/plain": [
       "tensor(1.3339, grad_fn=<NllLossBackward>)"
      ]
     },
     "execution_count": 24,
     "metadata": {},
     "output_type": "execute_result"
    }
   ],
   "source": [
    "l"
   ]
  },
  {
   "cell_type": "code",
   "execution_count": 25,
   "id": "84c8b777",
   "metadata": {},
   "outputs": [],
   "source": [
    "opt.step()"
   ]
  },
  {
   "cell_type": "code",
   "execution_count": null,
   "id": "4ca0b1cf",
   "metadata": {},
   "outputs": [],
   "source": []
  }
 ],
 "metadata": {
  "kernelspec": {
   "display_name": "Python 3 (ipykernel)",
   "language": "python",
   "name": "python3"
  },
  "language_info": {
   "codemirror_mode": {
    "name": "ipython",
    "version": 3
   },
   "file_extension": ".py",
   "mimetype": "text/x-python",
   "name": "python",
   "nbconvert_exporter": "python",
   "pygments_lexer": "ipython3",
   "version": "3.9.7"
  }
 },
 "nbformat": 4,
 "nbformat_minor": 5
}
